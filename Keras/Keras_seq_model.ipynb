{
  "nbformat": 4,
  "nbformat_minor": 0,
  "metadata": {
    "colab": {
      "provenance": []
    },
    "kernelspec": {
      "name": "python3",
      "display_name": "Python 3"
    },
    "language_info": {
      "name": "python"
    }
  },
  "cells": [
    {
      "cell_type": "code",
      "execution_count": 1,
      "metadata": {
        "id": "8phX3i1d5j1U"
      },
      "outputs": [],
      "source": [
        "import tensorflow as tf"
      ]
    },
    {
      "cell_type": "markdown",
      "source": [
        "#Import data"
      ],
      "metadata": {
        "id": "uGit1XTv6Hmf"
      }
    },
    {
      "cell_type": "code",
      "source": [
        "mnist=tf.keras.datasets.mnist\n",
        "(X_train, y_train), (X_test, y_test)=mnist.load_data()"
      ],
      "metadata": {
        "id": "b-JVqe_u5mPp",
        "colab": {
          "base_uri": "https://localhost:8080/"
        },
        "outputId": "87c3ef59-2075-4b80-a487-3ba95b9eea67"
      },
      "execution_count": 2,
      "outputs": [
        {
          "output_type": "stream",
          "name": "stdout",
          "text": [
            "Downloading data from https://storage.googleapis.com/tensorflow/tf-keras-datasets/mnist.npz\n",
            "\u001b[1m11490434/11490434\u001b[0m \u001b[32m━━━━━━━━━━━━━━━━━━━━\u001b[0m\u001b[37m\u001b[0m \u001b[1m0s\u001b[0m 0us/step\n"
          ]
        }
      ]
    },
    {
      "cell_type": "code",
      "source": [
        "X_test = X_test/255.0\n",
        "X_train = X_train/255.0"
      ],
      "metadata": {
        "id": "SIBRP6Ho6AqX"
      },
      "execution_count": 3,
      "outputs": []
    },
    {
      "cell_type": "markdown",
      "source": [
        "#Model"
      ],
      "metadata": {
        "id": "1iPiC_OX6NDS"
      }
    },
    {
      "cell_type": "markdown",
      "source": [
        "The Keras Sequential model is a simple, linear stack of layers in Keras, which is a popular deep learning API. It allows you to build neural networks layer by layer, where each layer has exactly one input and one output."
      ],
      "metadata": {
        "id": "2ISaJlTe6_Zn"
      }
    },
    {
      "cell_type": "code",
      "source": [
        "model = tf.keras.models.Sequential([\n",
        "  tf.keras.layers.Flatten(input_shape=(28, 28)),\n",
        "  #This layer has 128 neurons, then it applies an activation function (ReLu in this case)\n",
        "  tf.keras.layers.Dense(128, activation='relu'),\n",
        "  #Dropout is a technique used to prevent overfitting in neural networks. During each training step, it randomly \"drops out\" (sets to 0) 20% of the neurons in the layer.\n",
        "  tf.keras.layers.Dropout(0.2),\n",
        "  #The output layer : 10 because we have 10 classes to predict from\n",
        "  tf.keras.layers.Dense(10)\n",
        "])"
      ],
      "metadata": {
        "colab": {
          "base_uri": "https://localhost:8080/"
        },
        "id": "MADKYMWE6WTv",
        "outputId": "60f2514e-468e-472e-f2ea-8accdd97dada"
      },
      "execution_count": 4,
      "outputs": [
        {
          "output_type": "stream",
          "name": "stderr",
          "text": [
            "/usr/local/lib/python3.10/dist-packages/keras/src/layers/reshaping/flatten.py:37: UserWarning: Do not pass an `input_shape`/`input_dim` argument to a layer. When using Sequential models, prefer using an `Input(shape)` object as the first layer in the model instead.\n",
            "  super().__init__(**kwargs)\n"
          ]
        }
      ]
    },
    {
      "cell_type": "code",
      "source": [
        "predictions = model(X_train[:1]).numpy()\n",
        "predictions"
      ],
      "metadata": {
        "id": "xEbfs9wz6eKO",
        "colab": {
          "base_uri": "https://localhost:8080/"
        },
        "outputId": "3c8a80f9-946b-49c2-d46b-7ca92f8a0345"
      },
      "execution_count": 6,
      "outputs": [
        {
          "output_type": "execute_result",
          "data": {
            "text/plain": [
              "array([[ 0.54695123,  0.17712364,  0.45484823,  0.07930426, -0.28771633,\n",
              "         0.7759199 ,  0.22101998, -0.99081564,  0.01377916,  0.505365  ]],\n",
              "      dtype=float32)"
            ]
          },
          "metadata": {},
          "execution_count": 6
        }
      ]
    },
    {
      "cell_type": "code",
      "source": [
        "# Retourne les probas d'appartennaces a chaque classe\n",
        "tf.nn.softmax(predictions).numpy()\n"
      ],
      "metadata": {
        "colab": {
          "base_uri": "https://localhost:8080/"
        },
        "id": "L4ekWPbJclQ9",
        "outputId": "0a49de65-9110-4cb5-e6b5-db3923a4a191"
      },
      "execution_count": 7,
      "outputs": [
        {
          "output_type": "execute_result",
          "data": {
            "text/plain": [
              "array([[0.1350734 , 0.09331592, 0.12318844, 0.08462006, 0.05862438,\n",
              "        0.16982813, 0.09750337, 0.02902192, 0.07925307, 0.1295714 ]],\n",
              "      dtype=float32)"
            ]
          },
          "metadata": {},
          "execution_count": 7
        }
      ]
    },
    {
      "cell_type": "markdown",
      "source": [
        "The loss is zero if the model is confident about the correct class. But the predictions made here are not meaningful because the model has not been trained. It will return random values based on the initial weights. To obtain valid predictions, you need to train the model on data."
      ],
      "metadata": {
        "id": "jAZxM96KdHPG"
      }
    },
    {
      "cell_type": "code",
      "source": [
        "loss_fn = tf.keras.losses.SparseCategoricalCrossentropy(from_logits=True)\n",
        "loss_fn(y_train[:1], predictions).numpy()\n"
      ],
      "metadata": {
        "colab": {
          "base_uri": "https://localhost:8080/"
        },
        "id": "WsQIMgTtdEnx",
        "outputId": "9009b106-6fdd-4645-86dd-80cb7c33f578"
      },
      "execution_count": 8,
      "outputs": [
        {
          "output_type": "execute_result",
          "data": {
            "text/plain": [
              "1.7729684"
            ]
          },
          "metadata": {},
          "execution_count": 8
        }
      ]
    },
    {
      "cell_type": "markdown",
      "source": [
        "#Model training"
      ],
      "metadata": {
        "id": "R2KyjOY0dr2W"
      }
    },
    {
      "cell_type": "code",
      "source": [
        "model.compile(\n",
        "         # The optimizer is an algo that allows weights update while training.\n",
        "              optimizer='adam',\n",
        "         # Loss function\n",
        "              loss=loss_fn,\n",
        "              metrics=['accuracy'])"
      ],
      "metadata": {
        "id": "8M_xAP7fdNV8"
      },
      "execution_count": 9,
      "outputs": []
    },
    {
      "cell_type": "code",
      "source": [
        "# Ajusting parameters of the model\n",
        "model.fit(X_train, y_train, epochs=5)"
      ],
      "metadata": {
        "colab": {
          "base_uri": "https://localhost:8080/"
        },
        "id": "XO6w1Pt1dvRs",
        "outputId": "d0fd4012-15eb-4a96-a097-4e91086ec8b3"
      },
      "execution_count": 10,
      "outputs": [
        {
          "output_type": "stream",
          "name": "stdout",
          "text": [
            "Epoch 1/5\n",
            "\u001b[1m1875/1875\u001b[0m \u001b[32m━━━━━━━━━━━━━━━━━━━━\u001b[0m\u001b[37m\u001b[0m \u001b[1m12s\u001b[0m 6ms/step - accuracy: 0.8586 - loss: 0.4832\n",
            "Epoch 2/5\n",
            "\u001b[1m1875/1875\u001b[0m \u001b[32m━━━━━━━━━━━━━━━━━━━━\u001b[0m\u001b[37m\u001b[0m \u001b[1m6s\u001b[0m 3ms/step - accuracy: 0.9552 - loss: 0.1528\n",
            "Epoch 3/5\n",
            "\u001b[1m1875/1875\u001b[0m \u001b[32m━━━━━━━━━━━━━━━━━━━━\u001b[0m\u001b[37m\u001b[0m \u001b[1m11s\u001b[0m 4ms/step - accuracy: 0.9654 - loss: 0.1148\n",
            "Epoch 4/5\n",
            "\u001b[1m1875/1875\u001b[0m \u001b[32m━━━━━━━━━━━━━━━━━━━━\u001b[0m\u001b[37m\u001b[0m \u001b[1m7s\u001b[0m 4ms/step - accuracy: 0.9718 - loss: 0.0896\n",
            "Epoch 5/5\n",
            "\u001b[1m1875/1875\u001b[0m \u001b[32m━━━━━━━━━━━━━━━━━━━━\u001b[0m\u001b[37m\u001b[0m \u001b[1m7s\u001b[0m 3ms/step - accuracy: 0.9767 - loss: 0.0762\n"
          ]
        },
        {
          "output_type": "execute_result",
          "data": {
            "text/plain": [
              "<keras.src.callbacks.history.History at 0x79a1cf773970>"
            ]
          },
          "metadata": {},
          "execution_count": 10
        }
      ]
    },
    {
      "cell_type": "markdown",
      "source": [
        "**Difference between epochs and iterations :**\n",
        "Let’s say you have a dataset with 1000 samples and you set the batch_size to 100.\n",
        "\n",
        "Epoch: One complete pass through all 1000 samples.\n",
        "Iterations: Since the batch size is 100, it will take 10 iterations (1000 / 100) to complete 1 epoch. After every iteration, the model’s weights are updated."
      ],
      "metadata": {
        "id": "xZgEy_q3esVN"
      }
    },
    {
      "cell_type": "code",
      "source": [
        "model.evaluate(X_test,  y_test, verbose=2) #Returns loss and accuracy"
      ],
      "metadata": {
        "colab": {
          "base_uri": "https://localhost:8080/"
        },
        "id": "kXLUfbU_d10c",
        "outputId": "160675c2-f36c-41d7-92e3-454128910592"
      },
      "execution_count": 12,
      "outputs": [
        {
          "output_type": "stream",
          "name": "stdout",
          "text": [
            "313/313 - 1s - 2ms/step - accuracy: 0.9766 - loss: 0.0776\n"
          ]
        },
        {
          "output_type": "execute_result",
          "data": {
            "text/plain": [
              "[0.0776122435927391, 0.9765999913215637]"
            ]
          },
          "metadata": {},
          "execution_count": 12
        }
      ]
    },
    {
      "cell_type": "code",
      "source": [
        "# Same model but we add a softmax layer to it to make it able to return probabilities\n",
        "probability_model = tf.keras.Sequential([\n",
        "  model,\n",
        "  tf.keras.layers.Softmax()\n",
        "])"
      ],
      "metadata": {
        "id": "gWFGdMNje41E"
      },
      "execution_count": 13,
      "outputs": []
    },
    {
      "cell_type": "code",
      "source": [
        "probability_model(X_test[:5])"
      ],
      "metadata": {
        "colab": {
          "base_uri": "https://localhost:8080/"
        },
        "id": "j9CPQnY4e-dv",
        "outputId": "a6d88329-cdc7-47f0-f612-f17eacfba105"
      },
      "execution_count": 15,
      "outputs": [
        {
          "output_type": "execute_result",
          "data": {
            "text/plain": [
              "<tf.Tensor: shape=(5, 10), dtype=float32, numpy=\n",
              "array([[5.1191018e-06, 1.3491378e-08, 4.8943848e-06, 1.5266981e-03,\n",
              "        6.0733640e-10, 1.1415008e-06, 1.0037797e-13, 9.9844748e-01,\n",
              "        7.5647085e-07, 1.3911845e-05],\n",
              "       [5.1963458e-08, 1.4870960e-03, 9.9828583e-01, 1.9481358e-04,\n",
              "        2.6443594e-14, 2.3540128e-05, 4.1772154e-07, 1.0877680e-12,\n",
              "        8.2067772e-06, 3.7662308e-13],\n",
              "       [9.9233041e-08, 9.9934655e-01, 9.0517664e-05, 4.1963012e-06,\n",
              "        5.6531502e-05, 3.4898414e-06, 2.4719700e-06, 4.5243729e-04,\n",
              "        4.3605287e-05, 1.7468305e-07],\n",
              "       [9.9987388e-01, 1.8920880e-09, 2.9391162e-05, 3.8466692e-06,\n",
              "        6.2779043e-07, 2.9089397e-06, 3.0362768e-05, 7.9370585e-07,\n",
              "        8.0389702e-07, 5.7513771e-05],\n",
              "       [1.0086075e-05, 2.3529747e-09, 1.6858688e-06, 3.5079839e-08,\n",
              "        9.9133134e-01, 2.4667349e-06, 1.0410907e-05, 2.9065755e-05,\n",
              "        4.1415376e-07, 8.6145522e-03]], dtype=float32)>"
            ]
          },
          "metadata": {},
          "execution_count": 15
        }
      ]
    },
    {
      "cell_type": "code",
      "source": [],
      "metadata": {
        "id": "_c2S7Ia3fAUQ"
      },
      "execution_count": null,
      "outputs": []
    }
  ]
}